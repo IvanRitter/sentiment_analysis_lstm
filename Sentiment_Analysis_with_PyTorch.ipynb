{
 "cells": [
  {
   "cell_type": "code",
   "execution_count": 1,
   "metadata": {
    "id": "gsXIi_G3krIC"
   },
   "outputs": [],
   "source": [
    "# This notebook accompanies the blog post found here https://ivanritter.github.io/blog/sentiment_analysis_using_lstm/\n",
    "# We build a model to perform sentiment analysis using amazon customer reviews with PyTorch"
   ]
  },
  {
   "cell_type": "code",
   "execution_count": 2,
   "metadata": {
    "id": "C4rMCUIMlbvo"
   },
   "outputs": [],
   "source": [
    "import numpy as np\n",
    "import matplotlib.pyplot as plt\n",
    "import pandas as pd\n",
    "import torch,torchtext\n",
    "\n",
    "from sklearn.model_selection import train_test_split\n",
    "from torch.utils.data import DataLoader\n",
    "from collections import Counter \n",
    "from torchtext.vocab import Vocab\n",
    "from torchtext.data.utils import get_tokenizer\n",
    "from torch.nn.utils.rnn import pad_sequence,pack_padded_sequence\n",
    "plt.rcParams['figure.figsize'] = 10,6 "
   ]
  },
  {
   "cell_type": "code",
   "execution_count": 3,
   "metadata": {
    "colab": {
     "base_uri": "https://localhost:8080/"
    },
    "id": "Rw8Lkx4ClkqD",
    "outputId": "6ac1f94e-086d-4d42-b884-03c246591b7e"
   },
   "outputs": [
    {
     "name": "stdout",
     "output_type": "stream",
     "text": [
      "executed on : GPU\n"
     ]
    }
   ],
   "source": [
    "# Check if GPU is available. If not training is performed on CPU.\n",
    "# I do not recommend training on CPU. If you have no GPU try Google Colab \n",
    "if torch.cuda.is_available():\n",
    "    dev = 'cuda:0'\n",
    "    torch.set_default_tensor_type('torch.cuda.FloatTensor')\n",
    "    print('executed on : GPU')\n",
    "else:\n",
    "    dev = 'cpu'\n",
    "    print('executed on : CPU')\n",
    "\n",
    "device = torch.device(dev)"
   ]
  },
  {
   "cell_type": "code",
   "execution_count": 4,
   "metadata": {
    "colab": {
     "base_uri": "https://localhost:8080/"
    },
    "id": "MOJBSl8amSg2",
    "outputId": "509f66aa-4032-4aaa-e5e4-51c17518dd4e"
   },
   "outputs": [
    {
     "name": "stderr",
     "output_type": "stream",
     "text": [
      "b'Skipping line 9076: expected 15 fields, saw 22\\nSkipping line 19256: expected 15 fields, saw 22\\nSkipping line 24313: expected 15 fields, saw 22\\nSkipping line 47211: expected 15 fields, saw 22\\nSkipping line 54295: expected 15 fields, saw 22\\nSkipping line 56641: expected 15 fields, saw 22\\nSkipping line 63067: expected 15 fields, saw 22\\n'\n",
      "b'Skipping line 93796: expected 15 fields, saw 22\\n'\n",
      "b'Skipping line 132806: expected 15 fields, saw 22\\nSkipping line 164631: expected 15 fields, saw 22\\nSkipping line 167019: expected 15 fields, saw 22\\nSkipping line 167212: expected 15 fields, saw 22\\n'\n",
      "b'Skipping line 198103: expected 15 fields, saw 22\\nSkipping line 199191: expected 15 fields, saw 22\\nSkipping line 202841: expected 15 fields, saw 22\\nSkipping line 218228: expected 15 fields, saw 22\\nSkipping line 235900: expected 15 fields, saw 22\\n'\n",
      "b'Skipping line 277761: expected 15 fields, saw 22\\nSkipping line 304582: expected 15 fields, saw 22\\nSkipping line 312029: expected 15 fields, saw 22\\n'\n",
      "b'Skipping line 343692: expected 15 fields, saw 22\\nSkipping line 352291: expected 15 fields, saw 22\\nSkipping line 363414: expected 15 fields, saw 22\\nSkipping line 378087: expected 15 fields, saw 22\\nSkipping line 378720: expected 15 fields, saw 22\\nSkipping line 378760: expected 15 fields, saw 22\\nSkipping line 379336: expected 15 fields, saw 22\\n'\n",
      "b'Skipping line 402682: expected 15 fields, saw 22\\n'\n",
      "b'Skipping line 466560: expected 15 fields, saw 22\\nSkipping line 486823: expected 15 fields, saw 22\\nSkipping line 489036: expected 15 fields, saw 22\\nSkipping line 496148: expected 15 fields, saw 22\\nSkipping line 522330: expected 15 fields, saw 22\\n'\n",
      "b'Skipping line 552961: expected 15 fields, saw 22\\nSkipping line 577388: expected 15 fields, saw 22\\nSkipping line 582182: expected 15 fields, saw 22\\n'\n",
      "b'Skipping line 590653: expected 15 fields, saw 22\\nSkipping line 608846: expected 15 fields, saw 22\\nSkipping line 615442: expected 15 fields, saw 22\\nSkipping line 645607: expected 15 fields, saw 22\\nSkipping line 654323: expected 15 fields, saw 22\\n'\n",
      "b'Skipping line 714935: expected 15 fields, saw 22\\n'\n",
      "b'Skipping line 749608: expected 15 fields, saw 22\\nSkipping line 753868: expected 15 fields, saw 22\\nSkipping line 762504: expected 15 fields, saw 22\\nSkipping line 771706: expected 15 fields, saw 22\\nSkipping line 773376: expected 15 fields, saw 22\\n'\n",
      "b'Skipping line 792407: expected 15 fields, saw 22\\nSkipping line 793933: expected 15 fields, saw 22\\nSkipping line 813269: expected 15 fields, saw 22\\nSkipping line 835491: expected 15 fields, saw 22\\nSkipping line 841176: expected 15 fields, saw 22\\nSkipping line 844604: expected 15 fields, saw 22\\n'\n",
      "b'Skipping line 857952: expected 15 fields, saw 22\\nSkipping line 859568: expected 15 fields, saw 22\\nSkipping line 860789: expected 15 fields, saw 22\\nSkipping line 863093: expected 15 fields, saw 22\\nSkipping line 881608: expected 15 fields, saw 22\\nSkipping line 891157: expected 15 fields, saw 22\\nSkipping line 893799: expected 15 fields, saw 22\\nSkipping line 906438: expected 15 fields, saw 22\\nSkipping line 914856: expected 15 fields, saw 22\\n'\n",
      "b'Skipping line 940736: expected 15 fields, saw 22\\nSkipping line 965818: expected 15 fields, saw 22\\n'\n",
      "b'Skipping line 993840: expected 15 fields, saw 22\\nSkipping line 1019036: expected 15 fields, saw 22\\nSkipping line 1019205: expected 15 fields, saw 22\\n'\n",
      "b'Skipping line 1058122: expected 15 fields, saw 22\\n'\n",
      "b'Skipping line 1144887: expected 15 fields, saw 22\\nSkipping line 1147255: expected 15 fields, saw 22\\nSkipping line 1164497: expected 15 fields, saw 22\\nSkipping line 1166930: expected 15 fields, saw 22\\n'\n",
      "b'Skipping line 1218319: expected 15 fields, saw 22\\nSkipping line 1232868: expected 15 fields, saw 22\\n'\n",
      "b'Skipping line 1307335: expected 15 fields, saw 22\\n'\n",
      "b'Skipping line 1621422: expected 15 fields, saw 22\\n'\n",
      "b'Skipping line 1857720: expected 15 fields, saw 22\\n'\n",
      "b'Skipping line 1935753: expected 15 fields, saw 22\\n'\n",
      "b'Skipping line 1988449: expected 15 fields, saw 22\\n'\n"
     ]
    }
   ],
   "source": [
    "# Path to the location of the data like .../..../amazon_reviews_us_Electronics_v1_00.tsv\n",
    "path = '/content/drive/MyDrive/amazon_reviews_us_Electronics_v1_00.tsv'\n",
    "\n",
    "# Load data into pandas data frame. Do not worry if some reviews are skipped \n",
    "df  = pd.read_csv(path,delimiter='\\t',encoding='utf-8',error_bad_lines=False)"
   ]
  },
  {
   "cell_type": "code",
   "execution_count": 5,
   "metadata": {
    "colab": {
     "base_uri": "https://localhost:8080/"
    },
    "id": "H8YLqr9ImsC-",
    "outputId": "294db530-515f-425a-f118-b3cceab93104"
   },
   "outputs": [
    {
     "data": {
      "text/plain": [
       "['marketplace',\n",
       " 'customer_id',\n",
       " 'review_id',\n",
       " 'product_id',\n",
       " 'product_parent',\n",
       " 'product_title',\n",
       " 'product_category',\n",
       " 'star_rating',\n",
       " 'helpful_votes',\n",
       " 'total_votes',\n",
       " 'vine',\n",
       " 'verified_purchase',\n",
       " 'review_headline',\n",
       " 'review_body',\n",
       " 'review_date']"
      ]
     },
     "execution_count": 5,
     "metadata": {
      "tags": []
     },
     "output_type": "execute_result"
    }
   ],
   "source": [
    "# Information included in the data set. Each corresponding to a column of the frame \n",
    "list(df.columns)"
   ]
  },
  {
   "cell_type": "code",
   "execution_count": 6,
   "metadata": {
    "id": "mXVSyW1Tmacw"
   },
   "outputs": [],
   "source": [
    "# We are only interested in the star rating and the review text. So, we neglect all other information\n",
    "df = df.loc[:,['star_rating','review_body']]\n",
    "\n",
    "# Rename columns\n",
    "df.columns = ['rating','review']"
   ]
  },
  {
   "cell_type": "code",
   "execution_count": 7,
   "metadata": {
    "colab": {
     "base_uri": "https://localhost:8080/",
     "height": 206
    },
    "id": "wht-KB82nOfj",
    "outputId": "39168d21-b6c7-4496-c651-d92cce14be0e"
   },
   "outputs": [
    {
     "data": {
      "text/html": [
       "<div>\n",
       "<style scoped>\n",
       "    .dataframe tbody tr th:only-of-type {\n",
       "        vertical-align: middle;\n",
       "    }\n",
       "\n",
       "    .dataframe tbody tr th {\n",
       "        vertical-align: top;\n",
       "    }\n",
       "\n",
       "    .dataframe thead th {\n",
       "        text-align: right;\n",
       "    }\n",
       "</style>\n",
       "<table border=\"1\" class=\"dataframe\">\n",
       "  <thead>\n",
       "    <tr style=\"text-align: right;\">\n",
       "      <th></th>\n",
       "      <th>rating</th>\n",
       "      <th>review</th>\n",
       "    </tr>\n",
       "  </thead>\n",
       "  <tbody>\n",
       "    <tr>\n",
       "      <th>0</th>\n",
       "      <td>5</td>\n",
       "      <td>As described.</td>\n",
       "    </tr>\n",
       "    <tr>\n",
       "      <th>1</th>\n",
       "      <td>5</td>\n",
       "      <td>It works as advertising.</td>\n",
       "    </tr>\n",
       "    <tr>\n",
       "      <th>2</th>\n",
       "      <td>5</td>\n",
       "      <td>Works pissa</td>\n",
       "    </tr>\n",
       "    <tr>\n",
       "      <th>3</th>\n",
       "      <td>1</td>\n",
       "      <td>Did not work at all.</td>\n",
       "    </tr>\n",
       "    <tr>\n",
       "      <th>4</th>\n",
       "      <td>5</td>\n",
       "      <td>Works well. Bass is somewhat lacking but is pr...</td>\n",
       "    </tr>\n",
       "  </tbody>\n",
       "</table>\n",
       "</div>"
      ],
      "text/plain": [
       "   rating                                             review\n",
       "0       5                                      As described.\n",
       "1       5                           It works as advertising.\n",
       "2       5                                        Works pissa\n",
       "3       1                               Did not work at all.\n",
       "4       5  Works well. Bass is somewhat lacking but is pr..."
      ]
     },
     "execution_count": 7,
     "metadata": {
      "tags": []
     },
     "output_type": "execute_result"
    }
   ],
   "source": [
    "# Print the first 5 reviews\n",
    "df.head()"
   ]
  },
  {
   "cell_type": "code",
   "execution_count": 8,
   "metadata": {
    "id": "uiiszySAnQy5"
   },
   "outputs": [],
   "source": [
    "# Drop reviews whose text consists only of a number or comes without any text\n",
    "mask = np.invert(df.review.apply(lambda x : isinstance(x,int) or isinstance(x,float)))\n",
    "df   = df[mask]\n",
    "df.review = df.review.apply(lambda x : x if len(x) > 0 else np.nan)\n",
    "df.dropna(inplace=True)"
   ]
  },
  {
   "cell_type": "code",
   "execution_count": 9,
   "metadata": {
    "colab": {
     "base_uri": "https://localhost:8080/",
     "height": 413
    },
    "id": "TwkwOZDrnYQK",
    "outputId": "c95086e3-a59c-41b0-bbbf-71cd6e9e26b7"
   },
   "outputs": [
    {
     "data": {
      "image/png": "[encoded data removed]",
      "text/plain": [
       "<Figure size 720x432 with 1 Axes>"
      ]
     },
     "metadata": {
      "needs_background": "light",
      "tags": []
     },
     "output_type": "display_data"
    }
   ],
   "source": [
    "# Plot histogram of reviews with a certain star rating\n",
    "labels, counts = np.unique(df.rating.to_numpy(), return_counts=True)\n",
    "plt.bar(labels, counts, align='center',color='cornflowerblue',width=0.5)\n",
    "plt.gca().set_xticks(labels)\n",
    "plt.xticks(size=15)\n",
    "plt.yticks(size=15)\n",
    "plt.box(False)\n",
    "plt.grid(True)\n",
    "plt.xlabel('stars',size=20)\n",
    "plt.show()"
   ]
  },
  {
   "cell_type": "code",
   "execution_count": 10,
   "metadata": {
    "id": "cDrTWL2qnalB"
   },
   "outputs": [],
   "source": [
    "# We assume the reviews with stars < 4 belongs to class 0 \"negative\" and\n",
    "# reviews with stars >= 4 belong to class 1 \"positive\"\n",
    "# To make the two classes balanced we sample the same amount of reviews from each class\n",
    "\n",
    "n_reviews = [25000,25000,25000,37500,37500]\n",
    "rating_counts = list(df.rating.value_counts().sort_index())\n",
    "for i in range(5):\n",
    "    n_redundant_reviews = rating_counts[i] - n_reviews[i]\n",
    "    mask = np.random.choice(np.arange(len(df.rating))[df.rating == i+1], n_redundant_reviews,replace=False)\n",
    "    df = df.drop(df.index[mask])"
   ]
  },
  {
   "cell_type": "code",
   "execution_count": 11,
   "metadata": {
    "colab": {
     "base_uri": "https://localhost:8080/",
     "height": 402
    },
    "id": "oNvIm6t9nc6N",
    "outputId": "35968d39-069b-4c28-e07c-316c241dfd96"
   },
   "outputs": [
    {
     "data": {
      "image/png": "[encoded data removed]",
      "text/plain": [
       "<Figure size 720x432 with 1 Axes>"
      ]
     },
     "metadata": {
      "needs_background": "light",
      "tags": []
     },
     "output_type": "display_data"
    }
   ],
   "source": [
    "# Plot histogram for the new sampled data\n",
    "labels, counts = np.unique(df.rating.to_numpy(), return_counts=True)\n",
    "plt.bar(labels, counts, align='center',color='cornflowerblue',width=0.5)\n",
    "plt.gca().set_xticks(labels)\n",
    "plt.xticks(size=15)\n",
    "plt.yticks(size=15)\n",
    "plt.box(False)\n",
    "plt.grid(True)\n",
    "plt.xlabel('stars',size=20)\n",
    "plt.show()"
   ]
  },
  {
   "cell_type": "code",
   "execution_count": 12,
   "metadata": {
    "id": "gHQ2iadonfcm"
   },
   "outputs": [],
   "source": [
    "# Remove punctuation\n",
    "import string\n",
    "def remove_punctuation(text):\n",
    "    return ''.join([w for w in text if w not in string.punctuation])\n",
    "df.review = df.review.apply(lambda x: remove_punctuation(x))"
   ]
  },
  {
   "cell_type": "code",
   "execution_count": 13,
   "metadata": {
    "id": "aWkYi4zAnihP"
   },
   "outputs": [],
   "source": [
    "# List of stopwords we remove.\n",
    "stopwords = [\"i\", \"me\", \"my\", \"myself\", \"we\", \"our\", \"ours\", \"ourselves\", \"you\", \"your\", \"yours\", \"yourself\", \"yourselves\", \"he\", \"him\", \"his\", \"himself\", \"she\", \"her\", \"hers\", \"herself\", \"it\", \"its\", \"itself\", \"they\", \"them\", \"their\", \"theirs\", \"themselves\", \"what\", \"which\", \"who\", \"whom\", \"this\", \"that\", \"these\", \"those\", \"am\", \"is\", \"are\", \"was\", \"were\", \"be\", \"been\", \"being\", \"have\", \"has\", \"had\", \"having\", \"do\", \"does\", \"did\", \"doing\", \"a\", \"an\", \"the\", \"and\", \"but\", \"if\", \"or\", \"because\", \"as\", \"until\", \"while\", \"of\", \"at\", \"by\", \"for\", \"with\", \"about\", \"against\", \"between\", \"into\", \"through\", \"during\", \"before\", \"after\", \"above\", \"below\", \"to\", \"from\", \"up\", \"down\", \"in\", \"out\", \"on\", \"off\", \"over\", \"under\", \"again\", \"further\", \"then\", \"once\", \"here\", \"there\", \"when\", \"where\", \"why\", \"how\", \"all\", \"any\", \"both\", \"each\", \"few\", \"more\", \"most\", \"other\", \"some\", \"such\", \"only\", \"own\", \"same\", \"so\", \"than\", \"too\", \"very\", \"s\", \"t\", \"can\", \"will\", \"just\", \"don\", \"should\", \"now\"]"
   ]
  },
  {
   "cell_type": "code",
   "execution_count": 14,
   "metadata": {
    "id": "-idjlYAunlUY"
   },
   "outputs": [],
   "source": [
    "# Tokenize words\n",
    "tokenizer = get_tokenizer('basic_english')\n",
    "def remove_stopwords(text):\n",
    "    tokenized_text = tokenizer(text.lower())\n",
    "    return ' '.join([w for w in tokenized_text if not w in stopwords])\n",
    "df.review = df.review.apply(lambda x : remove_stopwords(x))"
   ]
  },
  {
   "cell_type": "code",
   "execution_count": 15,
   "metadata": {
    "id": "PzU--s6inlqf"
   },
   "outputs": [],
   "source": [
    "# Create vocabulary to encode words to integers\n",
    "# We consider only unique words which have a minimum frequency of 5 in the data.\n",
    "# It allows to remove uncommon typos and non-words like \"gfhsdfju\"\n",
    "min_freq = 5\n",
    "counter = Counter()\n",
    "for line in df.review:\n",
    "    counter.update(tokenizer(line.lower()))\n",
    "vocab = Vocab(counter,min_freq=min_freq)"
   ]
  },
  {
   "cell_type": "code",
   "execution_count": 16,
   "metadata": {
    "id": "zut1tif8nlxo"
   },
   "outputs": [],
   "source": [
    "# Split data into data for training, testing and validation\n",
    "df.review = df.review.apply(lambda x : x if len(x) > 0 else np.nan)\n",
    "df.dropna(inplace=True)\n",
    "df_train,df_test = train_test_split(df,test_size=0.2,shuffle=True)\n",
    "df_test,df_val   = train_test_split(df_test,test_size=0.5,shuffle=True)"
   ]
  },
  {
   "cell_type": "code",
   "execution_count": 17,
   "metadata": {
    "id": "1qL1AFl0nl0D"
   },
   "outputs": [],
   "source": [
    "# Generator function providing mini batches with text data and corresponding class label\n",
    "# The data in the batches is padded and packed to allow for efficient calculations\n",
    "def get_batch(data_series,target_series,batch_size):\n",
    "    series_len = len(data_series)\n",
    "    n_batches = series_len // batch_size\n",
    "    for i in range(0,n_batches):\n",
    "        tmp_data = data_series.iloc[i*batch_size:(i+1)*batch_size]\n",
    "        tmp_targets = target_series.iloc[i*batch_size:(i+1)*batch_size]\n",
    "\n",
    "        data = []\n",
    "        targets = torch.zeros(batch_size,dtype=torch.long)\n",
    "\n",
    "        for j in range(batch_size):\n",
    "            data.append(model.embedding(\n",
    "                torch.tensor([vocab[w] for w in tokenizer(tmp_data.iloc[j].lower())],dtype=torch.long)\n",
    "            ))\n",
    "            # Setting the decision boarder for the classes\n",
    "            targets[j] = 1 if tmp_targets.iloc[j] >= 4 else 0\n",
    "\n",
    "        # pad and pack the data for efficient computation\n",
    "        pad_data = pad_sequence(data)\n",
    "        lengths = torch.tensor([len(i) for i in data]).to('cpu')\n",
    "        pad_pack_data = pack_padded_sequence(pad_data,lengths,enforce_sorted=False)\n",
    "       \n",
    "        yield pad_pack_data,targets"
   ]
  },
  {
   "cell_type": "code",
   "execution_count": 18,
   "metadata": {
    "id": "C7JubTKQnl2U"
   },
   "outputs": [],
   "source": [
    "# Define the model used for classification\n",
    "\n",
    "class LSTM(torch.nn.Module):\n",
    "  \n",
    "    def __init__(self,input_dim,hidden_dim,output_dim,batch_size,n_layer,embedding_dim):\n",
    "        '''\n",
    "        input_dim     : dimension of dense vectors to encode words\n",
    "        hidden_dim    : dimension of hidden and cell state\n",
    "        output_dim    : corresponds to the number of different classes ( in our case 2)\n",
    "        n_layer       : number of stacked LSTM\n",
    "        embedding_dim : number of unique words to embed\n",
    "        '''\n",
    "        super().__init__()\n",
    "        self.input_dim = input_dim\n",
    "        self.output_dim = output_dim\n",
    "        self.hidden_dim = hidden_dim\n",
    "        self.batch_size = batch_size\n",
    "        self.n_layer = n_layer\n",
    "        self.embedding_dim = embedding_dim\n",
    "\n",
    "        self.dropout = torch.nn.Dropout(p=0.2)\n",
    "        self.embedding = torch.nn.Embedding(embedding_dim,input_dim,padding_idx=0)\n",
    "        self.lstm = torch.nn.LSTM(input_dim,hidden_dim,num_layers=n_layer)\n",
    "        self.linear1 = torch.nn.Linear(hidden_dim,hidden_dim*2)\n",
    "        self.linear2 = torch.nn.Linear(hidden_dim*2,int(hidden_dim*(1/3)))\n",
    "        self.linear3 = torch.nn.Linear(int(hidden_dim*(1/3)),2)\n",
    "        self.relu    = torch.nn.ReLU()\n",
    "        self.log_softmax = torch.nn.LogSoftmax(dim=1)\n",
    "\n",
    "    def init_hidden(self):\n",
    "        '''\n",
    "        Function to initialize the hidden and cell state with zeros\n",
    "        '''\n",
    "        h = torch.zeros(self.n_layer,self.batch_size,self.hidden_dim)\n",
    "        c = torch.zeros(self.n_layer,self.batch_size,self.hidden_dim)\n",
    "        return (h,c)\n",
    "        \n",
    "    def forward(self,input_data,hidden):\n",
    "        '''\n",
    "        input_data : data provided to the model in the format\n",
    "                     max sequence length x batch size x  * (any number of dimensions)\n",
    "        hidden     : tuple containing the hidden and the cell state\n",
    "\n",
    "        returns log probabilities according to output size\n",
    "        '''\n",
    "        out,(hidden,cell) = self.lstm(input_data,hidden)\n",
    "        out = self.dropout(hidden[-1])\n",
    "        out = self.relu(self.linear1(out))\n",
    "        out = self.dropout(out)\n",
    "        out = self.linear2(out)#.squeeze(0)\n",
    "        out = self.relu(out)\n",
    "        out = self.linear3(out)\n",
    "        return self.log_softmax(out)"
   ]
  },
  {
   "cell_type": "code",
   "execution_count": 19,
   "metadata": {
    "id": "fGnkcLaNnl4S"
   },
   "outputs": [],
   "source": [
    "# Function to evaluate the classification rate of the model\n",
    "def evaluate(data,targets,batch_size):\n",
    "    with torch.no_grad():\n",
    "        batches = get_batch(data,targets,batch_size)\n",
    "        result = 0\n",
    "        for input,labels in batches:\n",
    "            hidden = model.init_hidden()\n",
    "            out = model(input,hidden)\n",
    "            \n",
    "            result += torch.sum(out.argmax(dim = 1) == labels)\n",
    "        \n",
    "        return (result/len(targets))*100"
   ]
  },
  {
   "cell_type": "code",
   "execution_count": 20,
   "metadata": {
    "id": "TedVSUIPn0V2"
   },
   "outputs": [],
   "source": [
    "embedding_dim = len(vocab.freqs)\n",
    "input_dim     = 50\n",
    "hidden_dim    = 500\n",
    "output_dim    = 2\n",
    "batch_size    = 64\n",
    "n_layer       = 2  \n",
    "lr = 0.005\n",
    "model = LSTM(input_dim=input_dim,hidden_dim=hidden_dim,output_dim=output_dim,batch_size=batch_size,n_layer = n_layer,embedding_dim=embedding_dim)\n",
    "model.to(device)\n",
    "criterion = torch.nn.NLLLoss()\n",
    "optimizer = torch.optim.Adam(model.parameters(),lr)"
   ]
  },
  {
   "cell_type": "code",
   "execution_count": 21,
   "metadata": {
    "colab": {
     "base_uri": "https://localhost:8080/"
    },
    "id": "Wk7KvF85n2F4",
    "outputId": "fd20523c-66f9-47ca-f36c-7a5d54342b7d"
   },
   "outputs": [
    {
     "name": "stdout",
     "output_type": "stream",
     "text": [
      "--- loop : 0 ---\n",
      "train loss 0.6934345960617065\n",
      "val correct 49.813232421875%\n",
      "train loss 0.6781458854675293\n",
      "val correct 56.9570426940918%\n",
      "train loss 0.4637448191642761\n",
      "val correct 73.37913513183594%\n",
      "train loss 0.6344086527824402\n",
      "val correct 75.52027893066406%\n",
      "train loss 0.413521409034729\n",
      "val correct 76.28068542480469%\n",
      "train loss 0.4785451889038086\n",
      "val correct 76.80095672607422%\n",
      "train loss 0.35627439618110657\n",
      "val correct 81.23666381835938%\n",
      "train loss 0.5522416830062866\n",
      "val correct 80.36285400390625%\n",
      "train loss 0.4085676670074463\n",
      "val correct 81.37006378173828%\n",
      "train loss 0.49383386969566345\n",
      "val correct 81.32337188720703%\n",
      "train loss 0.24980571866035461\n",
      "val correct 82.82417297363281%\n",
      "train loss 0.3517063558101654\n",
      "val correct 83.02427673339844%\n",
      "train loss 0.44807884097099304\n",
      "val correct 83.49786376953125%\n",
      "train loss 0.46707800030708313\n",
      "val correct 83.92475891113281%\n",
      "train loss 0.3454783856868744\n",
      "val correct 83.82470703125%\n",
      "train loss 0.34386759996414185\n",
      "val correct 83.55123138427734%\n",
      "train loss 0.4443311095237732\n",
      "val correct 84.15155029296875%\n",
      "train loss 0.302812784910202\n",
      "val correct 84.011474609375%\n",
      "train loss 0.2732805013656616\n",
      "val correct 83.90474700927734%\n",
      "--- loop : 1 ---\n",
      "train loss 0.3577478229999542\n",
      "val correct 84.5517578125%\n",
      "train loss 0.4046836793422699\n",
      "val correct 84.05815887451172%\n",
      "train loss 0.4018756151199341\n",
      "val correct 84.50506591796875%\n",
      "train loss 0.3167625665664673\n",
      "val correct 84.95197296142578%\n",
      "train loss 0.368789404630661\n",
      "val correct 84.59844970703125%\n",
      "train loss 0.5279780626296997\n",
      "val correct 83.55789947509766%\n",
      "train loss 0.30389097332954407\n",
      "val correct 84.29828643798828%\n",
      "train loss 0.4625082015991211\n",
      "val correct 84.11819458007812%\n",
      "train loss 0.31798025965690613\n",
      "val correct 84.63847351074219%\n",
      "train loss 0.33395543694496155\n",
      "val correct 84.49172973632812%\n",
      "train loss 0.2417268306016922\n",
      "val correct 84.44503784179688%\n",
      "train loss 0.18924404680728912\n",
      "val correct 84.78521728515625%\n",
      "train loss 0.3398434817790985\n",
      "val correct 84.71184539794922%\n",
      "train loss 0.4196954369544983\n",
      "val correct 84.49172973632812%\n",
      "train loss 0.37261343002319336\n",
      "val correct 84.46504211425781%\n",
      "train loss 0.2294917106628418\n",
      "val correct 84.15155029296875%\n",
      "train loss 0.4083334505558014\n",
      "val correct 84.55842590332031%\n",
      "train loss 0.3220427334308624\n",
      "val correct 84.78521728515625%\n",
      "train loss 0.19306111335754395\n",
      "val correct 84.65180969238281%\n"
     ]
    }
   ],
   "source": [
    "n_loops = 2\n",
    "loss_history = []\n",
    "val_classification_history = []\n",
    "iter_count = 0\n",
    "\n",
    "\n",
    "for loop in range(n_loops):\n",
    "    iter_count = 0\n",
    "    print('--- loop : {} ---'.format(loop))\n",
    "    batches = get_batch(df_train.review,df_train.rating,batch_size)\n",
    "    \n",
    "    for model_input,targets in batches:\n",
    "\n",
    "        model.zero_grad()\n",
    "        hidden = model.init_hidden()\n",
    "        out = model(model_input,hidden)\n",
    "\n",
    "        loss = criterion(out,targets)\n",
    "        loss.backward()\n",
    "        torch.nn.utils.clip_grad_norm_(model.parameters(),max_norm=5)\n",
    "        optimizer.step()\n",
    "        loss_history.append(loss.item())\n",
    "        if iter_count % 100 == 0:\n",
    "            val_classification_history.append(\n",
    "                evaluate(df_val.review,df_val.rating,batch_size))\n",
    "            print('train loss {}'.format(loss.item()))\n",
    "            print('val correct {}%'.format(val_classification_history[-1]))\n",
    "        iter_count += 1\n",
    "    "
   ]
  },
  {
   "cell_type": "code",
   "execution_count": 22,
   "metadata": {
    "colab": {
     "base_uri": "https://localhost:8080/"
    },
    "id": "h_dkAuShn6Ub",
    "outputId": "7b3581d6-5c3e-429b-def7-74ebdefd7f39"
   },
   "outputs": [
    {
     "name": "stdout",
     "output_type": "stream",
     "text": [
      "classification rate on test set : 84.86425018310547%\n"
     ]
    }
   ],
   "source": [
    "test_result = evaluate(df_test.review,df_test.rating,batch_size)\n",
    "print('classification rate on test set : {}%'.format(test_result))"
   ]
  },
  {
   "cell_type": "code",
   "execution_count": 23,
   "metadata": {
    "id": "MwjnphY9n8Jl"
   },
   "outputs": [],
   "source": [
    "# Function to classify reviews using the trained model\n",
    "def classify(text):\n",
    "    with torch.no_grad():\n",
    "        model_input = model.embedding(\n",
    "        torch.tensor([vocab[w] for w in tokenizer(text.lower())],dtype=torch.long)\n",
    "            )\n",
    "        hidden = (\n",
    "        torch.zeros(2,1,hidden_dim),torch.zeros(2,1,hidden_dim)\n",
    "        )\n",
    "        model_output = model(model_input.unsqueeze(1),hidden)\n",
    "        \n",
    "        if model_output.argmax(dim=1) == 1: return 1\n",
    "        else: return 0\n",
    "\n",
    "        #print('The review is : {}'.format('POSITIV' if model_output.argmax(dim=1) == 1 else 'NEGATIVE'))"
   ]
  },
  {
   "cell_type": "code",
   "execution_count": 24,
   "metadata": {
    "colab": {
     "base_uri": "https://localhost:8080/"
    },
    "id": "7XU--gYDn-II",
    "outputId": "a89e370b-0620-43f2-ba0f-94d8d244b26a"
   },
   "outputs": [
    {
     "name": "stdout",
     "output_type": "stream",
     "text": [
      "Review belongs to class :  0\n"
     ]
    }
   ],
   "source": [
    "print('Review belongs to class : ',classify('My friend was not as excited as promised'))"
   ]
  },
  {
   "cell_type": "code",
   "execution_count": 25,
   "metadata": {
    "colab": {
     "base_uri": "https://localhost:8080/"
    },
    "id": "G3E75_E4n_s4",
    "outputId": "be0d8bac-a122-41d4-c589-07fdc078db14"
   },
   "outputs": [
    {
     "name": "stdout",
     "output_type": "stream",
     "text": [
      "Review belongs to class :  1\n"
     ]
    }
   ],
   "source": [
    "print('Review belongs to class : ',classify('Our dog enjoys breakfast with the new toaster'))"
   ]
  },
  {
   "cell_type": "code",
   "execution_count": 26,
   "metadata": {
    "colab": {
     "base_uri": "https://localhost:8080/"
    },
    "id": "QmLMn7-rDYVC",
    "outputId": "1ab7d7ad-f98e-4090-cec6-fe5d00a8ef9c"
   },
   "outputs": [
    {
     "data": {
      "text/plain": [
       "1"
      ]
     },
     "execution_count": 26,
     "metadata": {
      "tags": []
     },
     "output_type": "execute_result"
    }
   ],
   "source": []
  },
  {
   "cell_type": "code",
   "execution_count": null,
   "metadata": {
    "id": "4qenGJSCDu5K"
   },
   "outputs": [],
   "source": []
  }
 ],
 "metadata": {
  "accelerator": "GPU",
  "colab": {
   "name": "Sentiment Analysis with PyTorch.ipynb",
   "provenance": []
  },
  "kernelspec": {
   "display_name": "Python 3",
   "language": "python",
   "name": "python3"
  },
  "language_info": {
   "codemirror_mode": {
    "name": "ipython",
    "version": 3
   },
   "file_extension": ".py",
   "mimetype": "text/x-python",
   "name": "python",
   "nbconvert_exporter": "python",
   "pygments_lexer": "ipython3",
   "version": "3.7.3"
  }
 },
 "nbformat": 4,
 "nbformat_minor": 4
}
